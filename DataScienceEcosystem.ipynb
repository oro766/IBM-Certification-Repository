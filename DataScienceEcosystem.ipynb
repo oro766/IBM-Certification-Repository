{
 "cells": [
  {
   "cell_type": "markdown",
   "id": "c3680791",
   "metadata": {},
   "source": [
    "# Data Science Tools and Ecosystem"
   ]
  },
  {
   "cell_type": "markdown",
   "id": "aac1d571",
   "metadata": {},
   "source": [
    "In this notebook, Data Science Tools and Ecosystem are summarized"
   ]
  },
  {
   "cell_type": "markdown",
   "id": "b84c26c1",
   "metadata": {},
   "source": [
    "**Objectives:**\n",
    "- List popular languages for Data Science\n",
    "- List of commonly used libraries used by Data Scientists\n",
    "- Data Science tools\n",
    "- Examples of aritmethic expressions in Python"
   ]
  },
  {
   "cell_type": "markdown",
   "id": "049a0a55",
   "metadata": {},
   "source": [
    "#### Some of the popular languages that Data Scientists use are:\n",
    "1. python\n",
    "2. R\n",
    "3. SQL\n",
    "4. julia\n",
    "5. Scala\n",
    "6. Java\n",
    "7. C++\n",
    "8. Java\n",
    "9. JavaScript\n",
    "10. php\n",
    "11. GO\n",
    "12. Ruby\n",
    "13. Visual Basic"
   ]
  },
  {
   "cell_type": "markdown",
   "id": "0384b19d",
   "metadata": {},
   "source": [
    "#### Some of the commonly used libraries used by Data Scientists include:\n",
    "\n",
    "##### Python Libraries\n",
    "1. Pandas (Data structures & tools)\n",
    "2. NumPy (Arrays & matrices)\n",
    "3. Matplotlib (plots & graphs)\n",
    "4. Seaborn (plts: heat maps, time series, violin plots)\n",
    "5. Scikit-learn (Machine Learning: regression, classification, clustering)\n",
    "6. Keras (Deep Learning Neural Networks)\n",
    "7. TensorFlow (Deep Learinng: production & development)\n",
    "8. PyTorch (Deep Learning: regression, classification)\n",
    "\n",
    "##### Other Libraries\n",
    "9. Spark library\n",
    "10. Scala Libraries\n",
    "11. R libraries"
   ]
  },
  {
   "cell_type": "markdown",
   "id": "12708d23",
   "metadata": {},
   "source": [
    "| Data Science Tools. |\n",
    "| --- |\n",
    "| Jupyter development environment |\n",
    "| Jupyter Notebooks |\n",
    "| Jupyter Lab |\n",
    "| Apache Zeppelin |\n",
    "| RStudio |\n",
    "| Spyder |\n",
    "| Apache Spark |\n",
    "| Apache Flink |\n",
    "| Ray |\n",
    "| KNIME |\n"
   ]
  },
  {
   "cell_type": "markdown",
   "id": "46bb436b",
   "metadata": {},
   "source": [
    "### Below are a few examples of evaluating arithmetic expressions in Python\n"
   ]
  },
  {
   "cell_type": "code",
   "execution_count": 2,
   "id": "99eedda8",
   "metadata": {},
   "outputs": [
    {
     "data": {
      "text/plain": [
       "17"
      ]
     },
     "execution_count": 2,
     "metadata": {},
     "output_type": "execute_result"
    }
   ],
   "source": [
    "# This a simple arithmetic expression to mutiply then add integers.\n",
    "(3*4)+5"
   ]
  },
  {
   "cell_type": "code",
   "execution_count": 5,
   "id": "60d2db5a",
   "metadata": {},
   "outputs": [
    {
     "data": {
      "text/plain": [
       "3.3333333333333335"
      ]
     },
     "execution_count": 5,
     "metadata": {},
     "output_type": "execute_result"
    }
   ],
   "source": [
    "# This will convert 200 minutes to hours by diving by 60.\n",
    "200/60"
   ]
  },
  {
   "cell_type": "markdown",
   "id": "68393876",
   "metadata": {},
   "source": [
    "## Author\n",
    "Oliver Olbort"
   ]
  },
  {
   "cell_type": "code",
   "execution_count": null,
   "id": "28380439",
   "metadata": {},
   "outputs": [],
   "source": []
  }
 ],
 "metadata": {
  "kernelspec": {
   "display_name": "Python 3 (ipykernel)",
   "language": "python",
   "name": "python3"
  },
  "language_info": {
   "codemirror_mode": {
    "name": "ipython",
    "version": 3
   },
   "file_extension": ".py",
   "mimetype": "text/x-python",
   "name": "python",
   "nbconvert_exporter": "python",
   "pygments_lexer": "ipython3",
   "version": "3.9.13"
  }
 },
 "nbformat": 4,
 "nbformat_minor": 5
}
